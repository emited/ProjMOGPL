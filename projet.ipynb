{
 "cells": [
  {
   "cell_type": "markdown",
   "metadata": {},
   "source": [
    "# Projet MOGPL: la balade du robot"
   ]
  },
  {
   "cell_type": "markdown",
   "metadata": {},
   "source": [
    "### Sportich Benjamin, de Bézenac Emmanuel"
   ]
  },
  {
   "cell_type": "code",
   "execution_count": 1,
   "metadata": {
    "collapsed": false
   },
   "outputs": [],
   "source": [
    "%matplotlib inline\n",
    "import networkx as nx\n",
    "import matplotlib.pyplot as plt\n",
    "from matplotlib.patches import FancyArrowPatch, Circle\n",
    "import numpy as np"
   ]
  },
  {
   "cell_type": "markdown",
   "metadata": {},
   "source": [
    "## GENERATION ALEATOIRE D'INSTANCES"
   ]
  },
  {
   "cell_type": "markdown",
   "metadata": {},
   "source": [
    "## LECTURE DE FICHIER"
   ]
  },
  {
   "cell_type": "code",
   "execution_count": 2,
   "metadata": {
    "collapsed": true
   },
   "outputs": [],
   "source": [
    "def readfile(filename):\n",
    "    with open(filename) as f:\n",
    "        M,N = [int(x) for x in f.readline().split()] # read first line\n",
    "        array = []\n",
    "        i=0\n",
    "        for line in f: # read rest of lines\n",
    "            if(i<M):\n",
    "                array.append(np.array([int(x) for x in line.split()]))\n",
    "                i+=1\n",
    "            else:\n",
    "                iStart,jStart,iEnd,jEnd=[int(line.split()[i]) for i in range(4)]\n",
    "                startDir=line.split()[4]\n",
    "                break\n",
    "    return M,N,np.array(array),iStart,jStart,iEnd,jEnd,startDir"
   ]
  },
  {
   "cell_type": "markdown",
   "metadata": {},
   "source": [
    "Exemple:"
   ]
  },
  {
   "cell_type": "code",
   "execution_count": 3,
   "metadata": {
    "collapsed": false
   },
   "outputs": [],
   "source": [
    "m,n,A,iS,jS,iE,jE,sD=readfile('entree.txt')"
   ]
  },
  {
   "cell_type": "markdown",
   "metadata": {},
   "source": [
    "## CREATION & GESTION DU GRAPHE"
   ]
  },
  {
   "cell_type": "markdown",
   "metadata": {},
   "source": [
    "### Génère le graphe en fonction du tableau d'obstacles"
   ]
  },
  {
   "cell_type": "code",
   "execution_count": 4,
   "metadata": {
    "collapsed": false
   },
   "outputs": [],
   "source": [
    "def is_obstacle(i,j,M,N,A):\n",
    "    #print(i,j)\n",
    "    if(i==0):\n",
    "        if(j==0):\n",
    "            return A[0][0]\n",
    "        if(j==N-1):\n",
    "            return A[0][N-1]         \n",
    "    if(i==M-1):\n",
    "        if(j==0):\n",
    "            return A[M-1][0]\n",
    "        if(j==N-1):\n",
    "            return A[M-1][N-1]\n",
    "    #print i-1,j-1,i,j\n",
    "    if( i>=1 and j>=1 and A[i-1][j-1] and A[i][j-1] and A[i-1][j] ):\n",
    "        return A[i][j]\n",
    "    return 1 \n",
    "\n",
    "def gen_graph(M,N,A):\n",
    "    G=nx.DiGraph()\n",
    "    for i in range(M+1):\n",
    "        for j in range(N+1):\n",
    "            if(is_obstacle(i,j,M,N,A)==False):              \n",
    "                #Creation des noeuds - un par direction = 4 par position                \n",
    "                G.add_node(str(i)+str(j)+'1',direct='N')\n",
    "                G.add_node(str(i)+str(j)+'2',direct='E')\n",
    "                G.add_node(str(i)+str(j)+'3',direct='S')\n",
    "                G.add_node(str(i)+str(j)+'4',direct='O')\n",
    "\n",
    "                #Creation des arcs\n",
    "                #Changement de direction                \n",
    "                G.add_edge(str(i)+str(j)+'1',str(i)+str(j)+'2',action='R')\n",
    "                G.add_edge(str(i)+str(j)+'1',str(i)+str(j)+'4',action='L')\n",
    "                G.add_edge(str(i)+str(j)+'2',str(i)+str(j)+'3',action='R')\n",
    "                G.add_edge(str(i)+str(j)+'3',str(i)+str(j)+'4',action='R')\n",
    "\n",
    "                G.add_edge(str(i)+str(j)+'2',str(i)+str(j)+'1',action='L')\n",
    "                G.add_edge(str(i)+str(j)+'4',str(i)+str(j)+'1',action='R')\n",
    "                G.add_edge(str(i)+str(j)+'3',str(i)+str(j)+'2',action='L')\n",
    "                G.add_edge(str(i)+str(j)+'4',str(i)+str(j)+'3',action='L')\n",
    "\n",
    "                #Deplacement\n",
    "                #Nord/Haut\n",
    "                for k in [1,2,3]:\n",
    "                    if(is_obstacle(i-k,j,M,N,A)==False):\n",
    "                        G.add_edge(str(i)+str(j)+'1',str(i-k)+str(j)+'1',action=('a'+str(k)))\n",
    "                    else:\n",
    "                        break #Si il y a un obstacle en i-k on ne creer pas d'arc en i-k-1\n",
    "                #Est/Droite\n",
    "                for k in [1,2,3]:\n",
    "                    if(is_obstacle(i,j+k,M,N,A)==False):\n",
    "                        G.add_edge(str(i)+str(j)+'2',str(i)+str(j+k)+'2',action=('a'+str(k)))\n",
    "                    else:\n",
    "                        break #Si il y a un obstacle en i-k on ne creer pas d'arc en i-k-1\n",
    "                \n",
    "                #Sud/Bas\n",
    "                for k in [1,2,3]:\n",
    "                    if(is_obstacle(i+k,j,M,N,A)==False):\n",
    "                        G.add_edge(str(i)+str(j)+'3',str(i+k)+str(j)+'3',action=('a'+str(k)))\n",
    "                    else:\n",
    "                        break #Si il y a un obstacle en i-k on ne creer pas d'arc en i-k-1\n",
    "                \n",
    "                #Ouest/Gauche\n",
    "                for k in [1,2,3]:\n",
    "                    if(is_obstacle(i,j-k,M,N,A)==False):\n",
    "                        G.add_edge(str(i)+str(j)+'4',str(i)+str(j-k)+'4',action=('a'+str(k)))\n",
    "                    else:\n",
    "                        break #Si il y a un obstacle en i-k on ne creer pas d'arc en i-k-1\n",
    "                        \n",
    "    return G"
   ]
  },
  {
   "cell_type": "markdown",
   "metadata": {},
   "source": [
    "## AFFICHAGE DU GRAPHE"
   ]
  },
  {
   "cell_type": "code",
   "execution_count": 5,
   "metadata": {
    "collapsed": true
   },
   "outputs": [],
   "source": [
    "def fixed_pos(G): #Assigne des positions aux noeuds du graphe\n",
    "    fixed_pos={}\n",
    "    for n in G.nodes():\n",
    "        if(n[2]=='1'):\n",
    "            fixed_pos[n]=(int(n[1])*4+1,int(n[0])*4)\n",
    "        if(n[2]=='2'):\n",
    "            fixed_pos[n]=(int(n[1])*4+2,int(n[0])*4+1)\n",
    "        if(n[2]=='3'):\n",
    "            fixed_pos[n]=(int(n[1])*4+1,int(n[0])*4+2)\n",
    "        if(n[2]=='4'):\n",
    "            fixed_pos[n]=(int(n[1])*4,int(n[0])*4+1)        \n",
    "    return fixed_pos\n",
    "    \n",
    "def draw_graph(G,pos,ax,sg=None): #Genere l'affichage du graphe\n",
    "    for n in G:\n",
    "        c=Circle(pos[n],radius=0.15,alpha=0.5)\n",
    "        ax.add_patch(c)\n",
    "        G.node[n]['patch']=c\n",
    "        x,y=pos[n]\n",
    "    seen={}\n",
    "    for (u,v,d) in G.edges(data=True):\n",
    "        n1=G.node[u]['patch']\n",
    "        n2=G.node[v]['patch']\n",
    "        rad=0.2\n",
    "        if (u,v) in seen:\n",
    "            rad=seen.get((u,v))\n",
    "            rad=(rad+np.sign(rad)*0.1)*-1\n",
    "        alpha=0.5\n",
    "        color='k'\n",
    "        e = FancyArrowPatch(n1.center,n2.center,patchA=n1,patchB=n2,\n",
    "                            arrowstyle='-|>',\n",
    "                            connectionstyle='arc3,rad=%s'%rad,\n",
    "                            mutation_scale=10.0,\n",
    "                            lw=2,\n",
    "                            alpha=alpha,\n",
    "                            color=color)\n",
    "        seen[(u,v)]=rad\n",
    "        ax.add_patch(e)\n",
    "    return e\n",
    "\n",
    "def show_graph(G): # affiche le graphe\n",
    "    fig=plt.figure(figsize=(10,10))\n",
    "    ax=plt.subplot(111)\n",
    "    ax.invert_yaxis()\n",
    "    draw_graph(G,fixed_pos(G),ax)\n",
    "    ax.autoscale()\n",
    "    plt.axis('equal')\n",
    "    plt.axis('off')\n",
    "    plt.show()\n",
    "    #plt.savefig(\"graph.pdf\")\n",
    "    #nx.draw_networkx(G,fixed_pos,ax=axe,arrows=True,node_size=400,font_size=10)\n",
    "    #nx.draw(G,fixed_pos(G),ax=axe)"
   ]
  },
  {
   "cell_type": "markdown",
   "metadata": {},
   "source": [
    "## Main"
   ]
  },
  {
   "cell_type": "code",
   "execution_count": 6,
   "metadata": {
    "collapsed": false
   },
   "outputs": [
    {
     "name": "stdout",
     "output_type": "stream",
     "text": [
      "['114', '011', '112', '012', '003', '002', '001', '013', '014', '113', '004', '102', '103', '111', '101', '104']\n"
     ]
    },
    {
     "data": {
      "image/png": "[encoded data removed]",
      "text/plain": [
       "<matplotlib.figure.Figure at 0x7fd36c422490>"
      ]
     },
     "metadata": {},
     "output_type": "display_data"
    }
   ],
   "source": [
    "M,N=2,2\n",
    "A=np.zeros((M,N))\n",
    "G=gen_graph(M,N,A)\n",
    "\n",
    "#G.remove_node('1-14')\n",
    "print G.nodes(data=False)\n",
    "show_graph(G)"
   ]
  },
  {
   "cell_type": "markdown",
   "metadata": {},
   "source": [
    "## Interface"
   ]
  },
  {
   "cell_type": "code",
   "execution_count": 8,
   "metadata": {
    "collapsed": false
   },
   "outputs": [
    {
     "data": {
      "image/png": "[encoded data removed]",
      "text/plain": [
       "<matplotlib.figure.Figure at 0x7fd36bff7990>"
      ]
     },
     "metadata": {},
     "output_type": "display_data"
    }
   ],
   "source": [
    "\n",
    "fig=plt.figure(figsize=(10,10))\n",
    "ax=plt.subplot(111)\n",
    "ax.invert_yaxis()\n",
    "ax.autoscale()\n",
    "#G.add_edge('313','322')\n",
    "G.add_node('123')\n",
    "nx.draw(G,fixed_pos(G),ax=ax)\n",
    "plt.axis('equal')\n",
    "plt.axis('off')\n",
    "plt.show()\n"
   ]
  },
  {
   "cell_type": "code",
   "execution_count": null,
   "metadata": {
    "collapsed": true
   },
   "outputs": [],
   "source": []
  },
  {
   "cell_type": "code",
   "execution_count": null,
   "metadata": {
    "collapsed": true
   },
   "outputs": [],
   "source": []
  },
  {
   "cell_type": "code",
   "execution_count": null,
   "metadata": {
    "collapsed": true
   },
   "outputs": [],
   "source": []
  },
  {
   "cell_type": "code",
   "execution_count": null,
   "metadata": {
    "collapsed": true
   },
   "outputs": [],
   "source": []
  },
  {
   "cell_type": "code",
   "execution_count": null,
   "metadata": {
    "collapsed": true
   },
   "outputs": [],
   "source": []
  },
  {
   "cell_type": "code",
   "execution_count": null,
   "metadata": {
    "collapsed": true
   },
   "outputs": [],
   "source": []
  }
 ],
 "metadata": {
  "kernelspec": {
   "display_name": "Python 2",
   "language": "python",
   "name": "python2"
  },
  "language_info": {
   "codemirror_mode": {
    "name": "ipython",
    "version": 2
   },
   "file_extension": ".py",
   "mimetype": "text/x-python",
   "name": "python",
   "nbconvert_exporter": "python",
   "pygments_lexer": "ipython2",
   "version": "2.7.10"
  }
 },
 "nbformat": 4,
 "nbformat_minor": 0
}
