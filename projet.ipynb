{
 "cells": [
  {
   "cell_type": "markdown",
   "metadata": {},
   "source": [
    "# Projet MOGPL: la balade du robot"
   ]
  },
  {
   "cell_type": "markdown",
   "metadata": {},
   "source": [
    "### Sportich Benjamin, de Bézenac Emmanuel"
   ]
  },
  {
   "cell_type": "code",
   "execution_count": 1,
   "metadata": {
    "collapsed": false
   },
   "outputs": [],
   "source": [
    "%matplotlib inline\n",
    "import networkx as nx\n",
    "import matplotlib.pyplot as plt\n",
    "from matplotlib.patches import FancyArrowPatch, Circle\n",
    "import numpy as np"
   ]
  },
  {
   "cell_type": "markdown",
   "metadata": {},
   "source": [
    "## GENERATION ALEATOIRE D'INSTANCES"
   ]
  },
  {
   "cell_type": "markdown",
   "metadata": {},
   "source": [
    "## LECTURE DE FICHIER"
   ]
  },
  {
   "cell_type": "code",
   "execution_count": 79,
   "metadata": {
    "collapsed": true
   },
   "outputs": [],
   "source": [
    "def readfile(filename):\n",
    "    with open(filename) as f:\n",
    "        M,N = [int(x) for x in f.readline().split()] # lecture de la premiere ligne\n",
    "        array = []\n",
    "        i=0\n",
    "        for line in f: \n",
    "            if(i<M): # lecture du bloc\n",
    "                array.append(np.array([int(x) for x in line.split()]))\n",
    "                i+=1\n",
    "            else: #lecture du début, de la fin, ainsi que de la direction\n",
    "                iStart,jStart,iEnd,jEnd=[int(line.split()[i]) for i in range(4)]\n",
    "                startDir=line.split()[4]\n",
    "                break\n",
    "    return M,N,np.array(array),iStart,jStart,iEnd,jEnd,startDir"
   ]
  },
  {
   "cell_type": "markdown",
   "metadata": {},
   "source": [
    "Exemple:"
   ]
  },
  {
   "cell_type": "code",
   "execution_count": 3,
   "metadata": {
    "collapsed": false
   },
   "outputs": [],
   "source": [
    "m,n,A,iS,jS,iE,jE,sD=readfile('entree.txt')"
   ]
  },
  {
   "cell_type": "markdown",
   "metadata": {},
   "source": [
    "## CREATION & GESTION DU GRAPHE"
   ]
  },
  {
   "cell_type": "markdown",
   "metadata": {},
   "source": [
    "### Génère le graphe en fonction du tableau d'obstacles"
   ]
  },
  {
   "cell_type": "code",
   "execution_count": 110,
   "metadata": {
    "collapsed": false
   },
   "outputs": [],
   "source": [
    "def is_obstacle(i,j,M,N,A):\n",
    "    #Cas Limites\n",
    "    if(i==0): #Premiere ligne\n",
    "        if(j==0): #Premiere case\n",
    "            return A[0][0]\n",
    "        if(j==N): #Derniere case\n",
    "            return A[0][N-1]\n",
    "        if(j>0 and j<N): #Cases restantes\n",
    "            return A[0][j] or A[0][j-1]       \n",
    "    if(i==M): #Dernière ligne\n",
    "        if(j==0): #Premiere case\n",
    "            return A[M-1][0]\n",
    "        if(j==N): #Derniere case\n",
    "            return A[M-1][N-1]\n",
    "        if(j>0 and j<N): #Cases restantes\n",
    "            return A[M-1][j-1] or A[M-1][j] \n",
    "    if(j==0): #Premiere colonne \n",
    "        if(i>0 and i<M): #Cases restantes\n",
    "            return A[i][0] or A[i-1][0]       \n",
    "    if(j==N): #Derniere colonne \n",
    "        if(i>0 and i<M): #Cases restantes\n",
    "            return A[i-1][N-1] or A[i][N-1] \n",
    "    #Cas General\n",
    "    if( i>=1 and j>=1 and i<M and j<N and A[i-1][j-1]==0 and A[i][j-1]==0 and A[i-1][j]==0 ):\n",
    "        return A[i][j]\n",
    "    return 1 \n",
    "\n",
    "def gen_graph(M,N,A):\n",
    "    G=nx.DiGraph()\n",
    "    for i in range(M+1):\n",
    "        for j in range(N+1):\n",
    "            if(is_obstacle(i,j,M,N,A)==False):              \n",
    "                #Creation des noeuds - un par direction = 4 par position                \n",
    "                G.add_node(str(i)+str(j)+'1',direct='nord')\n",
    "                G.add_node(str(i)+str(j)+'2',direct='est')\n",
    "                G.add_node(str(i)+str(j)+'3',direct='sud')\n",
    "                G.add_node(str(i)+str(j)+'4',direct='ouest')\n",
    "\n",
    "                #Creation des arcs\n",
    "                #Changement des directions               \n",
    "                G.add_edge(str(i)+str(j)+'1',str(i)+str(j)+'2',action='D')\n",
    "                G.add_edge(str(i)+str(j)+'1',str(i)+str(j)+'4',action='G')\n",
    "                G.add_edge(str(i)+str(j)+'2',str(i)+str(j)+'3',action='D')\n",
    "                G.add_edge(str(i)+str(j)+'3',str(i)+str(j)+'4',action='D')\n",
    "\n",
    "                G.add_edge(str(i)+str(j)+'2',str(i)+str(j)+'1',action='G')\n",
    "                G.add_edge(str(i)+str(j)+'4',str(i)+str(j)+'1',action='D')\n",
    "                G.add_edge(str(i)+str(j)+'3',str(i)+str(j)+'2',action='G')\n",
    "                G.add_edge(str(i)+str(j)+'4',str(i)+str(j)+'3',action='G')\n",
    "\n",
    "                #Deplacement\n",
    "                #Nord/Haut\n",
    "                for k in [1,2,3]:\n",
    "                    if(is_obstacle(i-k,j,M,N,A)==False):\n",
    "                        G.add_edge(str(i)+str(j)+'1',str(i-k)+str(j)+'1',action=('a'+str(k)))\n",
    "                    else:\n",
    "                        break #Si il y a un obstacle en i-k on ne creer pas d'arc en i-k-1\n",
    "                #Est/Droite\n",
    "                for k in [1,2,3]:\n",
    "                    if(is_obstacle(i,j+k,M,N,A)==False):\n",
    "                        G.add_edge(str(i)+str(j)+'2',str(i)+str(j+k)+'2',action=('a'+str(k)))\n",
    "                    else:\n",
    "                        break #Si il y a un obstacle en i-k on ne creer pas d'arc en i-k-1\n",
    "                \n",
    "                #Sud/Bas\n",
    "                for k in [1,2,3]:\n",
    "                    if(is_obstacle(i+k,j,M,N,A)==False):\n",
    "                        G.add_edge(str(i)+str(j)+'3',str(i+k)+str(j)+'3',action=('a'+str(k)))\n",
    "                    else:\n",
    "                        break #Si il y a un obstacle en i-k on ne creer pas d'arc en i-k-1\n",
    "                \n",
    "                #Ouest/Gauche\n",
    "                for k in [1,2,3]:\n",
    "                    if(is_obstacle(i,j-k,M,N,A)==False):\n",
    "                        G.add_edge(str(i)+str(j)+'4',str(i)+str(j-k)+'4',action=('a'+str(k)))\n",
    "                    else:\n",
    "                        break #Si il y a un obstacle en i-k on ne creer pas d'arc en i-k-1\n",
    "                        \n",
    "    return G"
   ]
  },
  {
   "cell_type": "markdown",
   "metadata": {},
   "source": [
    "## PARCOURS EN LARGEUR"
   ]
  },
  {
   "cell_type": "code",
   "execution_count": 108,
   "metadata": {
    "collapsed": false
   },
   "outputs": [],
   "source": [
    "def BFS(start,end,G):\n",
    "    dist={}\n",
    "    for i in G.nodes():\n",
    "        dist[i]=[np.inf,None] #dist: [distance a start, predecessor] \n",
    "    dist[start][0]=0\n",
    "    q=[start]\n",
    "    while(q):\n",
    "        u=q.pop(0)\n",
    "        for v in G.neighbors(u):\n",
    "            if(np.isinf(dist[v][0])):\n",
    "                dist[v][0]=dist[u][0]+1\n",
    "                dist[v][1]=u\n",
    "                q.append(v)\n",
    "    #Backtracking: on retrouve le chemin minimal a partir d'un des 4 sommets de la fin\n",
    "    path=[]\n",
    "    prec=end    \n",
    "    while(prec!=start):\n",
    "        temp=prec\n",
    "        prec=dist[prec][1]\n",
    "        #Si on est deja sur un des 4 sommets de la case de finale on n'ajoute rien au chemin\n",
    "        if(prec[0:2]!=end[0:2] or temp[0:2]!=end[0:2]):\n",
    "            #path.append([prec,temp,G[prec][temp]['action']])\n",
    "            path.append(G[prec][temp]['action'])\n",
    "    return len(path),path[::-1]"
   ]
  },
  {
   "cell_type": "markdown",
   "metadata": {},
   "source": [
    "## AFFICHAGE DU GRAPHE"
   ]
  },
  {
   "cell_type": "code",
   "execution_count": 104,
   "metadata": {
    "collapsed": true
   },
   "outputs": [],
   "source": [
    "def fixed_pos(G): #Assigne des positions aux noeuds du graphe\n",
    "    fixed_pos={}\n",
    "    for n in G.nodes():\n",
    "        if(n[2]=='1'):\n",
    "            fixed_pos[n]=(int(n[1])*4+1,int(n[0])*4)\n",
    "        if(n[2]=='2'):\n",
    "            fixed_pos[n]=(int(n[1])*4+2,int(n[0])*4+1)\n",
    "        if(n[2]=='3'):\n",
    "            fixed_pos[n]=(int(n[1])*4+1,int(n[0])*4+2)\n",
    "        if(n[2]=='4'):\n",
    "            fixed_pos[n]=(int(n[1])*4,int(n[0])*4+1)        \n",
    "    return fixed_pos\n",
    "\n",
    "\n",
    "def draw_graph(G,pos,ax,sg=None): #Genere l'affichage du graphe\n",
    "    G_new=G.copy()\n",
    "    for n in G_new:\n",
    "        c=Circle(pos[n],radius=0.15,alpha=0.5)\n",
    "        ax.add_patch(c)\n",
    "        G_new.node[n]['patch']=c\n",
    "        x,y=pos[n]\n",
    "    seen={}\n",
    "    for (u,v,d) in G_new.edges(data=True):\n",
    "        n1=G_new.node[u]['patch']\n",
    "        n2=G_new.node[v]['patch']\n",
    "        rad=0.2\n",
    "        if (u,v) in seen:\n",
    "            rad=seen.get((u,v))\n",
    "            rad=(rad+np.sign(rad)*0.1)*-1\n",
    "        alpha=0.5\n",
    "        color='k'\n",
    "        e = FancyArrowPatch(n1.center,n2.center,patchA=n1,patchB=n2,\n",
    "                            arrowstyle='-|>',\n",
    "                            connectionstyle='arc3,rad=%s'%rad,\n",
    "                            mutation_scale=10.0,\n",
    "                            lw=2,\n",
    "                            alpha=alpha,\n",
    "                            color=color)\n",
    "        seen[(u,v)]=rad\n",
    "        ax.add_patch(e)\n",
    "    return e\n",
    "\n",
    "def show_graph(G): # affiche le graphe\n",
    "    fig=plt.figure(figsize=(10,10))\n",
    "    ax=plt.subplot(111)\n",
    "    ax.invert_yaxis()\n",
    "    draw_graph(G,fixed_pos(G),ax)\n",
    "    ax.autoscale()\n",
    "    plt.axis('equal')\n",
    "    plt.axis('off')\n",
    "    plt.show()\n",
    "    #plt.savefig(\"graph.pdf\")\n",
    "    #nx.draw_networkx(G,fixed_pos,ax=axe,arrows=True,node_size=400,font_size=10)\n",
    "    #nx.draw(G,fixed_pos(G),ax=axe)\n"
   ]
  },
  {
   "cell_type": "markdown",
   "metadata": {},
   "source": [
    "## MAIN"
   ]
  },
  {
   "cell_type": "code",
   "execution_count": 112,
   "metadata": {
    "collapsed": false,
    "scrolled": false
   },
   "outputs": [],
   "source": [
    "m,n,A,iS,jS,iE,jE,sD=readfile('entree.txt')\n",
    "G3=gen_graph(9,9,A[0:9,0:9])\n",
    "#show_graph(G3)"
   ]
  },
  {
   "cell_type": "code",
   "execution_count": 113,
   "metadata": {
    "collapsed": false
   },
   "outputs": [
    {
     "data": {
      "text/plain": [
       "(12, ['D', 'a2', 'D', 'a3', 'a3', 'D', 'a2', 'a3', 'D', 'a1', 'G', 'a2'])"
      ]
     },
     "execution_count": 113,
     "metadata": {},
     "output_type": "execute_result"
    }
   ],
   "source": [
    "BFS('723','271',G3)"
   ]
  },
  {
   "cell_type": "markdown",
   "metadata": {},
   "source": [
    "## INTERFACE"
   ]
  },
  {
   "cell_type": "code",
   "execution_count": null,
   "metadata": {
    "collapsed": false
   },
   "outputs": [],
   "source": [
    "M2,N2=2,2\n",
    "A=np.zeros((M2,N2))\n",
    "G2=gen_graph(M2,N2,A)\n",
    "fig=plt.figure(figsize=(10,10))\n",
    "ax=plt.subplot(111)\n",
    "ax.invert_yaxis()\n",
    "ax.autoscale()\n",
    "nx.draw_networkx(G2,fixed_pos(G2),ax=ax,arrows=True,node_size=400,font_size=10)\n",
    "#nx.draw(G,fixed_pos(G),ax=ax)\n",
    "plt.axis('equal')\n",
    "plt.axis('off')\n",
    "plt.show()\n"
   ]
  }
 ],
 "metadata": {
  "kernelspec": {
   "display_name": "Python 2",
   "language": "python",
   "name": "python2"
  },
  "language_info": {
   "codemirror_mode": {
    "name": "ipython",
    "version": 2
   },
   "file_extension": ".py",
   "mimetype": "text/x-python",
   "name": "python",
   "nbconvert_exporter": "python",
   "pygments_lexer": "ipython2",
   "version": "2.7.10"
  }
 },
 "nbformat": 4,
 "nbformat_minor": 0
}
