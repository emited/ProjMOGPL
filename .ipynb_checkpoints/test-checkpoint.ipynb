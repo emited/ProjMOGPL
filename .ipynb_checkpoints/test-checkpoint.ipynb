{
 "cells": [
  {
   "cell_type": "markdown",
   "metadata": {},
   "source": [
    "# Projet MOGPL: la balade du robot"
   ]
  },
  {
   "cell_type": "markdown",
   "metadata": {},
   "source": [
    "### Sportich Benjamin, de Bézenac Emmanuel"
   ]
  },
  {
   "cell_type": "code",
   "execution_count": 1,
   "metadata": {
    "collapsed": false
   },
   "outputs": [],
   "source": [
    "%matplotlib inline\n",
    "import networkx as nx\n",
    "import matplotlib.pyplot as plt\n",
    "import numpy as np"
   ]
  },
  {
   "cell_type": "markdown",
   "metadata": {},
   "source": [
    "## GENERATION ALEATOIRE D'INSTANCES"
   ]
  },
  {
   "cell_type": "markdown",
   "metadata": {},
   "source": [
    "## LECTURE ET ECRITURE DE FICHIER"
   ]
  },
  {
   "cell_type": "code",
   "execution_count": 2,
   "metadata": {
    "collapsed": false
   },
   "outputs": [],
   "source": [
    "def read_entry_file(filename):\n",
    "    with open(filename) as f:\n",
    "        k=0\n",
    "        inst_size=245 #arbitrary number\n",
    "        inst_list=[]\n",
    "        for line in f:\n",
    "            if(k==0%inst_size):\n",
    "                M=int(line.split()[0]) # lecture de la premiere ligne\n",
    "                N=int(line.split()[1]) # lecture de la premiere ligne\n",
    "                inst_size=M+2\n",
    "                k+=1\n",
    "                array = [] \n",
    "            elif(k<=(M%inst_size)): # lecture du bloc                \n",
    "                array.append(np.array([int(x) for x in line.split()]))\n",
    "                k+=1\n",
    "            \n",
    "            elif(k==M%inst_size+1): #lecture du début, de la fin, ainsi que de la direction\n",
    "                iStart,jStart,iEnd,jEnd=[int(line.split()[i]) for i in range(4)]\n",
    "                startDir=line.split()[4]\n",
    "                if(startDir=='nord'):\n",
    "                    startDir=1\n",
    "                if(startDir=='est'):\n",
    "                    startDir=2\n",
    "                if(startDir=='sud'):\n",
    "                    startDir=3\n",
    "                if(startDir=='ouest'):\n",
    "                    startDir=4 \n",
    "                k+=1\n",
    "            else:\n",
    "                inst_list.append((M,N,np.array(array),(iStart,jStart,startDir),(iEnd,jEnd,1)))\n",
    "                k=0\n",
    "    return inst_list\n",
    "\n",
    "def write_entry_file(filename,mod,A,startPos,endPos,startDir):\n",
    "    f=open(filename,mod)\n",
    "    f.write(str(A.shape[0])+' '+str(A.shape[1])+'\\n')\n",
    "    for i in A:\n",
    "        f.write(' '.join(str(int(e)) for e in i))\n",
    "        f.write('\\n')\n",
    "    if(startDir==1):\n",
    "        d='nord'\n",
    "    if(startDir==2):\n",
    "        d='est'\n",
    "    if(startDir==3):\n",
    "        d='sud'\n",
    "    if(startDir==4):\n",
    "        d='ouest'\n",
    "    f.write(str(startPos[0])+' '+str(startPos[1])+' '+str(endPos[0])+' '+str(endPos[1])+' '+d+'\\n')\n",
    "    f.write('0 0\\n')\n",
    "    f.close()\n",
    "\n",
    "def write_result_file(filename,mod,result):\n",
    "    f=open(filename,mod)\n",
    "    f.write(str(result[0])+' '+' '.join(e for e in result[1])+'\\n')\n",
    "    f.close()"
   ]
  },
  {
   "cell_type": "markdown",
   "metadata": {},
   "source": [
    "Exemple:"
   ]
  },
  {
   "cell_type": "code",
   "execution_count": 3,
   "metadata": {
    "collapsed": false,
    "scrolled": true
   },
   "outputs": [
    {
     "ename": "NameError",
     "evalue": "name 'gen_rand_instance' is not defined",
     "output_type": "error",
     "traceback": [
      "\u001b[1;31m---------------------------------------------------------------------------\u001b[0m",
      "\u001b[1;31mNameError\u001b[0m                                 Traceback (most recent call last)",
      "\u001b[1;32m<ipython-input-3-52369de8a72e>\u001b[0m in \u001b[0;36m<module>\u001b[1;34m()\u001b[0m\n\u001b[0;32m      5\u001b[0m \u001b[1;33m\u001b[0m\u001b[0m\n\u001b[0;32m      6\u001b[0m \u001b[1;32mfor\u001b[0m \u001b[0mi\u001b[0m \u001b[1;32min\u001b[0m \u001b[0mrange\u001b[0m\u001b[1;33m(\u001b[0m\u001b[0mnombre_inst\u001b[0m\u001b[1;33m)\u001b[0m\u001b[1;33m:\u001b[0m \u001b[1;31m#on remplis au fur et a mesure le fichier\u001b[0m\u001b[1;33m\u001b[0m\u001b[0m\n\u001b[1;32m----> 7\u001b[1;33m     \u001b[0mA\u001b[0m\u001b[1;33m=\u001b[0m\u001b[0mgen_rand_instance\u001b[0m\u001b[1;33m(\u001b[0m\u001b[1;36m5\u001b[0m\u001b[1;33m+\u001b[0m\u001b[0mi\u001b[0m\u001b[1;33m,\u001b[0m\u001b[1;36m5\u001b[0m\u001b[1;33m+\u001b[0m\u001b[0mi\u001b[0m\u001b[1;33m,\u001b[0m\u001b[1;36m6\u001b[0m\u001b[1;33m+\u001b[0m\u001b[0mi\u001b[0m\u001b[1;33m)\u001b[0m\u001b[1;33m\u001b[0m\u001b[0m\n\u001b[0m\u001b[0;32m      8\u001b[0m     \u001b[0mGr\u001b[0m\u001b[1;33m=\u001b[0m\u001b[0mgen_graph\u001b[0m\u001b[1;33m(\u001b[0m\u001b[0mA\u001b[0m\u001b[1;33m)\u001b[0m\u001b[1;33m\u001b[0m\u001b[0m\n\u001b[0;32m      9\u001b[0m     \u001b[0mst\u001b[0m\u001b[1;33m,\u001b[0m\u001b[0men\u001b[0m\u001b[1;33m=\u001b[0m\u001b[0mgen_rand_positions\u001b[0m\u001b[1;33m(\u001b[0m\u001b[0mGr\u001b[0m\u001b[1;33m)\u001b[0m\u001b[1;33m\u001b[0m\u001b[0m\n",
      "\u001b[1;31mNameError\u001b[0m: name 'gen_rand_instance' is not defined"
     ]
    }
   ],
   "source": [
    "nombre_inst=3\n",
    "filename='test_entree.txt'\n",
    "with open(filename,'w'): #on vide le fichier\n",
    "    pass\n",
    "\n",
    "for i in range(nombre_inst): #on remplis au fur et a mesure le fichier \n",
    "    A=gen_rand_instance(5+i,5+i,6+i)\n",
    "    Gr=gen_graph(A)\n",
    "    st,en=gen_rand_positions(Gr)\n",
    "    write_entry_file(filename,'a',A,st[:2],en[:2],st[2])\n",
    "\n",
    "l=read_entry_file(filename) #on lis le fichier\n",
    "# le resultat est un tuple d'instances \n",
    "# une instance est definie comme: (M,N,A,(iStart,jStart,startDir),(iEnd,jEnd,1)\n",
    "print l"
   ]
  },
  {
   "cell_type": "code",
   "execution_count": 4,
   "metadata": {
    "collapsed": false
   },
   "outputs": [],
   "source": [
    "def is_obstacle(i,j,A):\n",
    "    M=A.shape[0]\n",
    "    N=A.shape[1]\n",
    "    #Cas Limites\n",
    "    if(i==0): #Premiere ligne\n",
    "        if(j==0): #Premiere case\n",
    "            return A[0][0]\n",
    "        if(j==N): #Derniere case\n",
    "            return A[0][N-1]\n",
    "        if(j>0 and j<N): #Cases restantes\n",
    "            return A[0][j] or A[0][j-1]       \n",
    "    if(i==M): #Dernière ligne\n",
    "        if(j==0): #Premiere case\n",
    "            return A[M-1][0]\n",
    "        if(j==N): #Derniere case\n",
    "            return A[M-1][N-1]\n",
    "        if(j>0 and j<N): #Cases restantes\n",
    "            return A[M-1][j-1] or A[M-1][j] \n",
    "    if(j==0): #Premiere colonne \n",
    "        if(i>0 and i<M): #Cases restantes\n",
    "            return A[i][0] or A[i-1][0]       \n",
    "    if(j==N): #Derniere colonne \n",
    "        if(i>0 and i<M): #Cases restantes\n",
    "            return A[i-1][N-1] or A[i][N-1] \n",
    "    #Cas General\n",
    "    if( i>=1 and j>=1 and i<M and j<N and A[i-1][j-1]==0 and A[i][j-1]==0 and A[i-1][j]==0 ):\n",
    "        return A[i][j]\n",
    "    return 1 "
   ]
  },
  {
   "cell_type": "markdown",
   "metadata": {},
   "source": [
    "## CREATION & GESTION DU GRAPHE"
   ]
  },
  {
   "cell_type": "markdown",
   "metadata": {},
   "source": [
    "### Génère le graphe en fonction du tableau d'obstacles"
   ]
  },
  {
   "cell_type": "code",
   "execution_count": 5,
   "metadata": {
    "collapsed": false
   },
   "outputs": [],
   "source": [
    "def gen_graph(A):\n",
    "    M=A.shape[0]\n",
    "    N=A.shape[1]\n",
    "    G=nx.DiGraph()\n",
    "    for i in range(M+1):\n",
    "        for j in range(N+1):\n",
    "            if(is_obstacle(i,j,A)==False):              \n",
    "                #Creation des noeuds - un par direction = 4 par position                \n",
    "                G.add_node((i,j,1),direct='nord')\n",
    "                G.add_node((i,j,2),direct='est')\n",
    "                G.add_node((i,j,3),direct='sud')\n",
    "                G.add_node((i,j,4),direct='ouest')\n",
    "\n",
    "                #Creation des arcs\n",
    "                #Changement des directions               \n",
    "                G.add_edge((i,j,1),(i,j,2),action='D')\n",
    "                G.add_edge((i,j,1),(i,j,4),action='G')\n",
    "                G.add_edge((i,j,2),(i,j,3),action='D')\n",
    "                G.add_edge((i,j,3),(i,j,4),action='D')\n",
    "\n",
    "                G.add_edge((i,j,2),(i,j,1),action='G')\n",
    "                G.add_edge((i,j,4),(i,j,1),action='D')\n",
    "                G.add_edge((i,j,3),(i,j,2),action='G')\n",
    "                G.add_edge((i,j,4),(i,j,3),action='G')\n",
    "\n",
    "                #Deplacement\n",
    "                #Nord/Haut\n",
    "                for k in [1,2,3]:\n",
    "                    if(is_obstacle(i-k,j,A)==False):\n",
    "                        G.add_edge((i,j,1),(i-k,j,1),action=('a'+str(k)))\n",
    "                    else:\n",
    "                        break #Si il y a un obstacle en i-k on ne creer pas d'arc en i-k-1\n",
    "                #Est/Droite\n",
    "                for k in [1,2,3]:\n",
    "                    if(is_obstacle(i,j+k,A)==False):\n",
    "                        G.add_edge((i,j,2),(i,j+k,2),action=('a'+str(k)))\n",
    "                    else:\n",
    "                        break #Si il y a un obstacle en j+k on ne creer pas d'arc en j+k+1\n",
    "                \n",
    "                #Sud/Bas\n",
    "                for k in [1,2,3]:\n",
    "                    if(is_obstacle(i+k,j,A)==False):\n",
    "                        G.add_edge((i,j,3),(i+k,j,3),action=('a'+str(k)))\n",
    "                    else:\n",
    "                        break #Si il y a un obstacle en i+k on ne creer pas d'arc en i-k+1\n",
    "                \n",
    "                #Ouest/Gauche\n",
    "                for k in [1,2,3]:\n",
    "                    if(is_obstacle(i,j-k,A)==False):\n",
    "                        G.add_edge((i,j,4),(i,j-k,4),action=('a'+str(k)))\n",
    "                    else:\n",
    "                        break #Si il y a un obstacle en j-k on ne creer pas d'arc en j-k-1\n",
    "                        \n",
    "    return G"
   ]
  },
  {
   "cell_type": "markdown",
   "metadata": {},
   "source": [
    "## GENERATION ALEATOIRE D'INSTANCE"
   ]
  },
  {
   "cell_type": "code",
   "execution_count": 6,
   "metadata": {
    "collapsed": true
   },
   "outputs": [],
   "source": [
    "from random import choice\n",
    "def gen_rand_instance(M,N,nb_obstacles):\n",
    "    A=np.zeros((M,N),dtype=int)\n",
    "    obstacles=[]\n",
    "    if(nb_obstacles<=M*N-4):\n",
    "        #Generation d'obstacles\n",
    "        for i in range(nb_obstacles):\n",
    "            obstacle=(int(np.random.rand()*M),int(np.random.rand()*N))\n",
    "            while(obstacle in obstacles): #Obstacle déjà créé\n",
    "                obstacle=(int(np.random.rand()*M),int(np.random.rand()*N))\n",
    "            A[obstacle]=1\n",
    "            obstacles.append(obstacle)        \n",
    "    else:\n",
    "        print 'Erreur, trop d\\'obstacles.'\n",
    "        \n",
    "    return A\n",
    "\n",
    "def gen_rand_positions(G):\n",
    "    startPos=choice(G.nodes())\n",
    "    endPos=choice(G.nodes())\n",
    "    return startPos,endPos"
   ]
  },
  {
   "cell_type": "markdown",
   "metadata": {},
   "source": [
    "Exemple:"
   ]
  },
  {
   "cell_type": "code",
   "execution_count": 7,
   "metadata": {
    "collapsed": false,
    "scrolled": true
   },
   "outputs": [
    {
     "name": "stdout",
     "output_type": "stream",
     "text": [
      "[[1 1 1 1 0]\n",
      " [1 1 0 0 0]\n",
      " [1 0 1 0 1]\n",
      " [1 0 1 1 1]\n",
      " [1 0 0 1 1]]\n"
     ]
    }
   ],
   "source": [
    "print gen_rand_instance(5,5,16)"
   ]
  },
  {
   "cell_type": "markdown",
   "metadata": {},
   "source": [
    "## MEILLEUR CHEMIN"
   ]
  },
  {
   "cell_type": "code",
   "execution_count": 8,
   "metadata": {
    "collapsed": false
   },
   "outputs": [],
   "source": [
    "def BFS(start,end,G):\n",
    "    dist={}\n",
    "    for i in G.nodes():\n",
    "        dist[i]=[np.inf,None] #dist: [distance a start, predecesseur]\n",
    "    dist[start][0]=0 \n",
    "    q=[start] #on mets le premier element dans la queue q\n",
    "    while(q):# tant que la queue n'est pas vide\n",
    "        \n",
    "        u=q.pop(0) #on retire le prochain element de la queue q pour l'assigner a u\n",
    "        \n",
    "        for v in G.neighbors(u): #on explore tout les voisins de u\n",
    "            \n",
    "            if(np.isinf(dist[v][0])): #si le voisin v de u n'a pas encore ete exploré\n",
    "                dist[v][0]=dist[u][0]+1\n",
    "                dist[v][1]=u # le predecesseur de v est u\n",
    "                q.append(v) #on rajoute v a la queue\n",
    "                if(v[:2]==end[:2]): #on s'arrete lorsqu'on voit la fin\n",
    "                    print v\n",
    "                    print dist[v]\n",
    "                    return dist\n",
    "    return dist\n",
    "\n",
    "def gen_shortest_path(start,end,G):\n",
    "    #Backtracking: on retrouve le chemin minimal a partir d'un des 4 sommets de la fin\n",
    "    dist=BFS(start,end,G) #resultat du BFS\n",
    "    path=[] #stocke l'action associé aux arcs parcourus\n",
    "    path_edges=[] #stocke le nom des arcs parcourus\n",
    "    for i in [1,2,3,4]:\n",
    "        if(dist[(end[0],end[1],i)][0]!=np.inf):\n",
    "            new_end=(end[0],end[1],i)\n",
    "            break\n",
    "            \n",
    "    print new_end\n",
    "    #print dist\n",
    "    prec=new_end\n",
    "    while(prec!=start):\n",
    "        temp=prec\n",
    "        print 'hhehfe'\n",
    "        if(dist[prec][1]is None):\n",
    "            print(str(dist[new_end])+' fin:')\n",
    "            return -1,[],[]\n",
    "        else:\n",
    "            prec=dist[prec][1]\n",
    "        #Si on est deja sur un des 4 sommets de la case de finale on n'ajoute rien au chemin\n",
    "        if(prec[0:2]!=end[0:2] or temp[0:2]!=end[0:2]):\n",
    "            path_edges.append([prec,temp])\n",
    "            path.append(G[prec][temp]['action'])\n",
    "    return len(path),path[::-1],path_edges[::-1] \n",
    "    #on renvoie le cout du chemin, ainsi les listes dans l'ordre inverse"
   ]
  },
  {
   "cell_type": "code",
   "execution_count": 9,
   "metadata": {
    "collapsed": false
   },
   "outputs": [],
   "source": [
    "from ipywidgets import Button,IntSlider,Latex,HBox\n",
    "from IPython.display import display\n",
    "import time\n",
    "\n",
    "class Interface():\n",
    "    def __init__(self,figsize=(6,6)):\n",
    "        self.figsize=figsize\n",
    "        self.size_slider=IntSlider(description='Grid Size',min=4,max=50)\n",
    "        display(self.size_slider)\n",
    "\n",
    "        self.nb_ob_slider=IntSlider(description='Obstacles',min=0,max=7)\n",
    "        display(self.nb_ob_slider)\n",
    "\n",
    "        self.gen_button=Button(description='Generate Instance',margin=10)\n",
    "        self.show_button=Button(description='Show Instance',margin=10)\n",
    "        self.inst_but_container=HBox(children=[self.gen_button,self.show_button])\n",
    "        self.inst_but_container.width = '100%'\n",
    "        #self.inst_but_container.pack = 'center'\n",
    "        display(self.inst_but_container)\n",
    "\n",
    "        self.t_label_button=Latex(margin=10)\n",
    "        self.t1_button=Latex(margin=10)\n",
    "        self.t2_button=Latex(margin=10)\n",
    "        self.t3_button=Latex(margin=10)\n",
    "        self.t0_button=Latex(margin=10)\n",
    "        self.path_button=Latex(margin=10)\n",
    "        self.t_but_container=HBox(children=[self.t_label_button,self.t1_button,self.t2_button,self.t3_button,self.t0_button])\n",
    "        self.t_but_container.width = '100%'\n",
    "        self.t_but_container.pack = 'center'\n",
    "        display(self.t_but_container)\n",
    "        display(self.path_button)\n",
    "\n",
    "        self.size_slider.on_trait_change(self._on_size_slider_change,'value')\n",
    "        self.gen_button.on_click(self._on_gen_button_click)\n",
    "        self.show_button.on_click(self._on_show_button_click)\n",
    "        \n",
    "        self.show_button.disabled=True\n",
    "\n",
    "\n",
    "    def _on_size_slider_change(self,name,value):\n",
    "        self.nb_ob_slider.max=int(value)**2/2-4 #Constrain on number of obstacles\n",
    "\n",
    "    def _on_gen_button_click(self,b):\n",
    "        #Instance Generation\n",
    "        self.M=self.size_slider.value\n",
    "        self.nb_ob=self.nb_ob_slider.value\n",
    "        t0=time.time()\n",
    "        self.A=gen_rand_instance(self.M,self.M,self.nb_ob)\n",
    "        t1=time.time()\n",
    "        self.G=gen_graph(self.A)\n",
    "        self.start,self.end=gen_rand_positions(self.G)\n",
    "        t2=time.time()\n",
    "        self.result=gen_shortest_path(self.start,self.end,self.G)\n",
    "        tf=time.time()  \n",
    "\n",
    "        #Gen Latex buttons\n",
    "        self.t_label_button.value='Time: '\n",
    "        self.t1_button.value='gen Instance: '+str(t1-t0)[:6]+' s.'\n",
    "        self.t2_button.value='gen Graph: '+str(t2-t1)[:6]+' s.'\n",
    "        self.t3_button.value='gen shortest_path: '+str(tf-t2)[:6]+' s.'\n",
    "        self.t0_button.value='Total: '+str(tf-t0)[:6]+' s.'\n",
    "        self.path_button.value='Path: Value:  '+str(self.result[0])+'  Actions: '+' '.join(e for e in self.result[1])    \n",
    "    \n",
    "        self.show_button.disabled=False\n",
    "        self.has_shown=False\n",
    "    \n",
    "    def _on_show_button_click(self,b):\n",
    "        self.ax=show_interface(self.result,self.A,self.start,self.end,figsize=self.figsize)\n",
    "\n",
    "\n",
    "i=Interface(figsize=(6,6))"
   ]
  },
  {
   "cell_type": "markdown",
   "metadata": {},
   "source": [
    "## INTERFACE"
   ]
  },
  {
   "cell_type": "code",
   "execution_count": 10,
   "metadata": {
    "collapsed": false
   },
   "outputs": [],
   "source": [
    "from matplotlib.table import Table\n",
    "import matplotlib.lines as lines\n",
    "from matplotlib.patches import Circle, Arrow,FancyArrowPatch\n",
    "\n",
    "def show_interface(result,A,startPos,endPos,figsize=(8,8)):\n",
    "    colors=['white','grey']\n",
    "    fig=plt.figure(figsize=figsize)\n",
    "    ax=plt.subplot(111)    \n",
    "    ax.set_ylim([0,A.shape[0]])\n",
    "    ax.set_xlim([0,A.shape[1]])\n",
    "    ax.set_axis_off()\n",
    "    tb = Table(ax, bbox=[0,0,1,1])\n",
    "    nrows, ncols = A.shape\n",
    "    width, height = 1.0 / ncols, 1.0 / nrows\n",
    "    # Add cells\n",
    "    for (i,j),val in np.ndenumerate(A):\n",
    "        color=colors[val]\n",
    "        tb.add_cell(i, j, width, height,loc='center', facecolor=color)\n",
    "    # Row Labels...\n",
    "    for i in range(A.shape[0]):\n",
    "        tb.add_cell(i, -1, width, height, text=i, loc='right', \n",
    "                    edgecolor='none', facecolor='none')\n",
    "    # Column Labels\n",
    "    for j in range(A.shape[1]):\n",
    "        tb.add_cell(-1, j, width, height/2, text=j, loc='center', \n",
    "                           edgecolor='none', facecolor='none')\n",
    "    ax.add_table(tb)\n",
    "    \n",
    "    #Ajout Chemin\n",
    "    for i,j in result[2]:\n",
    "        ax.add_line(lines.Line2D((i[1],j[1]),(i[0],j[0]),linewidth=3,zorder=1))\n",
    "    \n",
    "    #Ajout Depart\n",
    "    start=startPos[:2][::-1]\n",
    "    start_circle=Circle(start,radius=0.2,alpha=0.8, color='g',zorder=2,label='Position de Depart')\n",
    "    ax.add_patch(start_circle)\n",
    "    \n",
    "    #Ajout Direction de Depart\n",
    "    start_dir=startPos[2]\n",
    "    start_posA=start\n",
    "    if(start_dir==1):        \n",
    "        start_posB=(start_posA[0],start_posA[1]-1)\n",
    "    if(start_dir==2):\n",
    "        start_posB=(start_posA[0]+1,start_posA[1])\n",
    "    if(start_dir==3):\n",
    "        start_posB=(start_posA[0],start_posA[1]+1)\n",
    "    if(start_dir==4):\n",
    "        start_posB=(start_posA[0]-1,start_posA[1])    \n",
    "    arrow=FancyArrowPatch(start_posA,start_posB,arrowstyle='->',color='m',mutation_scale=15.0,lw=2,zorder=3,label='Sens de Depart')\n",
    "    ax.add_patch(arrow)\n",
    "\n",
    "    #Ajout Arrivee\n",
    "    end=endPos[:2][::-1]\n",
    "    end_circle=Circle(end,radius=0.2,alpha=0.9, color='r',zorder=2,label='Position d\\'arrivee')\n",
    "    ax.add_patch(end_circle)\n",
    "    \n",
    "    ax.invert_yaxis()\n",
    "    ax.legend(bbox_to_anchor=(1.1, 1.05))\n",
    "    plt.show()"
   ]
  },
  {
   "cell_type": "code",
   "execution_count": null,
   "metadata": {
    "collapsed": false
   },
   "outputs": [],
   "source": []
  },
  {
   "cell_type": "markdown",
   "metadata": {},
   "source": [
    "## MAIN"
   ]
  },
  {
   "cell_type": "markdown",
   "metadata": {},
   "source": [
    "### Avec instance decrite dans le projet"
   ]
  },
  {
   "cell_type": "code",
   "execution_count": 11,
   "metadata": {
    "collapsed": false,
    "scrolled": false
   },
   "outputs": [
    {
     "ename": "IOError",
     "evalue": "[Errno 2] No such file or directory: 'entree.txt'",
     "output_type": "error",
     "traceback": [
      "\u001b[1;31m---------------------------------------------------------------------------\u001b[0m",
      "\u001b[1;31mIOError\u001b[0m                                   Traceback (most recent call last)",
      "\u001b[1;32m<ipython-input-11-e40c5c914e9a>\u001b[0m in \u001b[0;36m<module>\u001b[1;34m()\u001b[0m\n\u001b[1;32m----> 1\u001b[1;33m \u001b[0mm\u001b[0m\u001b[1;33m,\u001b[0m\u001b[0mn\u001b[0m\u001b[1;33m,\u001b[0m\u001b[0mA\u001b[0m\u001b[1;33m,\u001b[0m\u001b[0mstart\u001b[0m\u001b[1;33m,\u001b[0m\u001b[0mend\u001b[0m\u001b[1;33m=\u001b[0m\u001b[0mread_entry_file\u001b[0m\u001b[1;33m(\u001b[0m\u001b[1;34m'entree.txt'\u001b[0m\u001b[1;33m)\u001b[0m\u001b[1;33m[\u001b[0m\u001b[1;36m0\u001b[0m\u001b[1;33m]\u001b[0m\u001b[1;33m\u001b[0m\u001b[0m\n\u001b[0m\u001b[0;32m      2\u001b[0m \u001b[0mG\u001b[0m\u001b[1;33m=\u001b[0m\u001b[0mgen_graph\u001b[0m\u001b[1;33m(\u001b[0m\u001b[0mA\u001b[0m\u001b[1;33m)\u001b[0m\u001b[1;33m\u001b[0m\u001b[0m\n\u001b[0;32m      3\u001b[0m \u001b[0mresult\u001b[0m\u001b[1;33m=\u001b[0m\u001b[0mgen_shortest_path\u001b[0m\u001b[1;33m(\u001b[0m\u001b[0mstart\u001b[0m\u001b[1;33m,\u001b[0m\u001b[0mend\u001b[0m\u001b[1;33m,\u001b[0m\u001b[0mG\u001b[0m\u001b[1;33m)\u001b[0m\u001b[1;33m\u001b[0m\u001b[0m\n\u001b[0;32m      4\u001b[0m \u001b[1;32mprint\u001b[0m \u001b[0mresult\u001b[0m\u001b[1;33m[\u001b[0m\u001b[1;33m:\u001b[0m\u001b[1;33m-\u001b[0m\u001b[1;36m1\u001b[0m\u001b[1;33m]\u001b[0m\u001b[1;33m\u001b[0m\u001b[0m\n\u001b[0;32m      5\u001b[0m \u001b[0mf\u001b[0m\u001b[1;33m=\u001b[0m\u001b[0mshow_interface\u001b[0m\u001b[1;33m(\u001b[0m\u001b[0mresult\u001b[0m\u001b[1;33m,\u001b[0m\u001b[0mA\u001b[0m\u001b[1;33m,\u001b[0m\u001b[0mstart\u001b[0m\u001b[1;33m,\u001b[0m\u001b[0mend\u001b[0m\u001b[1;33m)\u001b[0m\u001b[1;33m\u001b[0m\u001b[0m\n",
      "\u001b[1;32m<ipython-input-2-267b990d1138>\u001b[0m in \u001b[0;36mread_entry_file\u001b[1;34m(filename)\u001b[0m\n\u001b[0;32m      1\u001b[0m \u001b[1;32mdef\u001b[0m \u001b[0mread_entry_file\u001b[0m\u001b[1;33m(\u001b[0m\u001b[0mfilename\u001b[0m\u001b[1;33m)\u001b[0m\u001b[1;33m:\u001b[0m\u001b[1;33m\u001b[0m\u001b[0m\n\u001b[1;32m----> 2\u001b[1;33m     \u001b[1;32mwith\u001b[0m \u001b[0mopen\u001b[0m\u001b[1;33m(\u001b[0m\u001b[0mfilename\u001b[0m\u001b[1;33m)\u001b[0m \u001b[1;32mas\u001b[0m \u001b[0mf\u001b[0m\u001b[1;33m:\u001b[0m\u001b[1;33m\u001b[0m\u001b[0m\n\u001b[0m\u001b[0;32m      3\u001b[0m         \u001b[0mk\u001b[0m\u001b[1;33m=\u001b[0m\u001b[1;36m0\u001b[0m\u001b[1;33m\u001b[0m\u001b[0m\n\u001b[0;32m      4\u001b[0m         \u001b[0minst_size\u001b[0m\u001b[1;33m=\u001b[0m\u001b[1;36m245\u001b[0m \u001b[1;31m#arbitrary number\u001b[0m\u001b[1;33m\u001b[0m\u001b[0m\n\u001b[0;32m      5\u001b[0m         \u001b[0minst_list\u001b[0m\u001b[1;33m=\u001b[0m\u001b[1;33m[\u001b[0m\u001b[1;33m]\u001b[0m\u001b[1;33m\u001b[0m\u001b[0m\n",
      "\u001b[1;31mIOError\u001b[0m: [Errno 2] No such file or directory: 'entree.txt'"
     ]
    }
   ],
   "source": [
    "m,n,A,start,end=read_entry_file('entree.txt')[0]\n",
    "G=gen_graph(A)\n",
    "result=gen_shortest_path(start,end,G)\n",
    "print result[:-1]\n",
    "f=show_interface(result,A,start,end)\n",
    "write_result_file('resultat.txt','w',result[:2])"
   ]
  },
  {
   "cell_type": "markdown",
   "metadata": {},
   "source": [
    "### Avec instance aléatoire"
   ]
  },
  {
   "cell_type": "code",
   "execution_count": 12,
   "metadata": {
    "collapsed": false,
    "scrolled": false
   },
   "outputs": [
    {
     "name": "stdout",
     "output_type": "stream",
     "text": [
      "(4, 0, 4)\n",
      "[4, (4, 3, 4)]\n",
      "(4, 0, 4)\n",
      "hhehfe\n",
      "hhehfe\n",
      "hhehfe\n",
      "hhehfe\n",
      "(4, ['a3', 'D', 'a1', 'a3'])\n"
     ]
    },
    {
     "data": {
      "image/png": "[encoded data removed]",
      "text/plain": [
       "<matplotlib.figure.Figure at 0x7ff26584f890>"
      ]
     },
     "metadata": {},
     "output_type": "display_data"
    },
    {
     "ename": "NameError",
     "evalue": "name 'show_graph' is not defined",
     "output_type": "error",
     "traceback": [
      "\u001b[1;31m---------------------------------------------------------------------------\u001b[0m",
      "\u001b[1;31mNameError\u001b[0m                                 Traceback (most recent call last)",
      "\u001b[1;32m<ipython-input-12-9332eef70e24>\u001b[0m in \u001b[0;36m<module>\u001b[1;34m()\u001b[0m\n\u001b[0;32m      5\u001b[0m \u001b[1;32mprint\u001b[0m \u001b[0mresult2\u001b[0m\u001b[1;33m[\u001b[0m\u001b[1;33m:\u001b[0m\u001b[1;33m-\u001b[0m\u001b[1;36m1\u001b[0m\u001b[1;33m]\u001b[0m\u001b[1;33m\u001b[0m\u001b[0m\n\u001b[0;32m      6\u001b[0m \u001b[0mshow_interface\u001b[0m\u001b[1;33m(\u001b[0m\u001b[0mresult2\u001b[0m\u001b[1;33m,\u001b[0m\u001b[0mA2\u001b[0m\u001b[1;33m,\u001b[0m\u001b[0mstart2\u001b[0m\u001b[1;33m,\u001b[0m\u001b[0mend2\u001b[0m\u001b[1;33m)\u001b[0m\u001b[1;33m\u001b[0m\u001b[0m\n\u001b[1;32m----> 7\u001b[1;33m \u001b[0mshow_graph\u001b[0m\u001b[1;33m(\u001b[0m\u001b[0mG2\u001b[0m\u001b[1;33m)\u001b[0m\u001b[1;33m\u001b[0m\u001b[0m\n\u001b[0m\u001b[0;32m      8\u001b[0m \u001b[1;31m#write_result_file('rand_resultat.txt','w',result2[:-1])\u001b[0m\u001b[1;33m\u001b[0m\u001b[1;33m\u001b[0m\u001b[0m\n",
      "\u001b[1;31mNameError\u001b[0m: name 'show_graph' is not defined"
     ]
    }
   ],
   "source": [
    "A2=gen_rand_instance(4,4,0)\n",
    "G2=gen_graph(A2)\n",
    "start2,end2=gen_rand_positions(G2)\n",
    "result2=gen_shortest_path(start2,end2,G2)\n",
    "print result2[:-1]\n",
    "show_interface(result2,A2,start2,end2)\n",
    "show_graph(G2)\n",
    "#write_result_file('rand_resultat.txt','w',result2[:-1])"
   ]
  },
  {
   "cell_type": "code",
   "execution_count": 13,
   "metadata": {
    "collapsed": false
   },
   "outputs": [
    {
     "name": "stdout",
     "output_type": "stream",
     "text": [
      "(4, ['a3', 'D', 'a1', 'a3'], [[(1, 4, 3), (4, 4, 3)], [(4, 4, 3), (4, 4, 4)], [(4, 4, 4), (4, 3, 4)], [(4, 3, 4), (4, 0, 4)]])\n"
     ]
    }
   ],
   "source": [
    "print result2"
   ]
  },
  {
   "cell_type": "code",
   "execution_count": 14,
   "metadata": {
    "collapsed": false
   },
   "outputs": [
    {
     "data": {
      "text/plain": [
       "None"
      ]
     },
     "metadata": {},
     "output_type": "display_data"
    },
    {
     "data": {
      "text/plain": [
       "<function __main__.plot_sine>"
      ]
     },
     "execution_count": 14,
     "metadata": {},
     "output_type": "execute_result"
    },
    {
     "data": {
      "image/png": "[encoded data removed]",
      "text/plain": [
       "<matplotlib.figure.Figure at 0x7ff2658035d0>"
      ]
     },
     "metadata": {},
     "output_type": "display_data"
    }
   ],
   "source": [
    "from ipywidgets import interact\n",
    "def plot_sine(n):\n",
    "    x=np.arange(0,20,0.1)\n",
    "    y=np.sin(x/n)\n",
    "    plt.plot(x,y)\n",
    "interact(plot_sine,n=(1,10,0.1))"
   ]
  },
  {
   "cell_type": "code",
   "execution_count": null,
   "metadata": {
    "collapsed": false,
    "scrolled": false
   },
   "outputs": [
    {
     "name": "stdout",
     "output_type": "stream",
     "text": [
      "Taille? (X*X) \n"
     ]
    },
    {
     "ename": "ValueError",
     "evalue": "invalid literal for int() with base 10: ''",
     "output_type": "error",
     "traceback": [
      "\u001b[1;31m---------------------------------------------------------------------------\u001b[0m",
      "\u001b[1;31mValueError\u001b[0m                                Traceback (most recent call last)",
      "\u001b[1;32m<ipython-input-15-85232651c607>\u001b[0m in \u001b[0;36m<module>\u001b[1;34m()\u001b[0m\n\u001b[0;32m      1\u001b[0m \u001b[1;32mimport\u001b[0m \u001b[0mtime\u001b[0m\u001b[1;33m\u001b[0m\u001b[0m\n\u001b[1;32m----> 2\u001b[1;33m \u001b[0mM\u001b[0m\u001b[1;33m=\u001b[0m\u001b[0mint\u001b[0m\u001b[1;33m(\u001b[0m\u001b[0mraw_input\u001b[0m\u001b[1;33m(\u001b[0m\u001b[1;34m'Taille? (X*X) '\u001b[0m\u001b[1;33m)\u001b[0m\u001b[1;33m)\u001b[0m\u001b[1;33m\u001b[0m\u001b[0m\n\u001b[0m\u001b[0;32m      3\u001b[0m \u001b[0mnb_obstacles\u001b[0m\u001b[1;33m=\u001b[0m\u001b[0mint\u001b[0m\u001b[1;33m(\u001b[0m\u001b[0mraw_input\u001b[0m\u001b[1;33m(\u001b[0m\u001b[1;34m'\\nNombre d\\'obstacles? '\u001b[0m\u001b[1;33m)\u001b[0m\u001b[1;33m)\u001b[0m\u001b[1;33m\u001b[0m\u001b[0m\n\u001b[0;32m      4\u001b[0m \u001b[0mt0\u001b[0m\u001b[1;33m=\u001b[0m\u001b[0mtime\u001b[0m\u001b[1;33m.\u001b[0m\u001b[0mtime\u001b[0m\u001b[1;33m(\u001b[0m\u001b[1;33m)\u001b[0m\u001b[1;33m\u001b[0m\u001b[0m\n\u001b[0;32m      5\u001b[0m \u001b[0mA3\u001b[0m\u001b[1;33m=\u001b[0m\u001b[0mgen_rand_instance\u001b[0m\u001b[1;33m(\u001b[0m\u001b[0mM\u001b[0m\u001b[1;33m,\u001b[0m\u001b[0mM\u001b[0m\u001b[1;33m,\u001b[0m\u001b[0mnb_obstacles\u001b[0m\u001b[1;33m)\u001b[0m\u001b[1;33m\u001b[0m\u001b[0m\n",
      "\u001b[1;31mValueError\u001b[0m: invalid literal for int() with base 10: ''"
     ]
    }
   ],
   "source": [
    "import time\n",
    "M=int(raw_input('Taille? (X*X) '))\n",
    "nb_obstacles=int(raw_input('\\nNombre d\\'obstacles? '))\n",
    "t0=time.time()\n",
    "A3=gen_rand_instance(M,M,nb_obstacles)\n",
    "t1=time.time()\n",
    "G3=gen_graph(A3)\n",
    "t2=time.time()\n",
    "start3,end3=gen_rand_positions(G3)\n",
    "t3=time.time()\n",
    "result3=gen_shortest_path(start3,end3,G3)\n",
    "tf=time.time()\n",
    "print '\\nTotal time: '+str(tf-t0)\n",
    "print '\\nGen Instance:'+str(t1-t0)\n",
    "print '\\nGen Graph:'+str(t2-t1)\n",
    "print '\\nGen Rand Pos:'+str(t3-t2)\n",
    "print '\\nGen shortest path:'+str(tf-t3)+'\\n'\n",
    "print result3[:-1]\n",
    "show_interface(result3,A3,start3,end3)\n",
    "#write_result_file('rand_resultat.txt','w',result3[:-1])"
   ]
  },
  {
   "cell_type": "markdown",
   "metadata": {},
   "source": [
    "## AFFICHAGE DU GRAPHE"
   ]
  },
  {
   "cell_type": "code",
   "execution_count": 27,
   "metadata": {
    "collapsed": true
   },
   "outputs": [],
   "source": [
    "from matplotlib.patches import FancyArrowPatch, Circle\n",
    "\n",
    "def fixed_pos(G): #Assigne des positions aux noeuds du graphe\n",
    "    fixed_pos={}\n",
    "    for n in G.nodes():\n",
    "        if(n[2]==1):\n",
    "            fixed_pos[n]=(int(n[1])*4+1,int(n[0])*4)\n",
    "        if(n[2]==2):\n",
    "            fixed_pos[n]=(int(n[1])*4+2,int(n[0])*4+1)\n",
    "        if(n[2]==3):\n",
    "            fixed_pos[n]=(int(n[1])*4+1,int(n[0])*4+2)\n",
    "        if(n[2]==4):\n",
    "            fixed_pos[n]=(int(n[1])*4,int(n[0])*4+1)        \n",
    "    return fixed_pos\n",
    "\n",
    "\n",
    "def draw_graph(G,pos,ax,sg=None): #Genere l'affichage du graphe\n",
    "    G_new=G.copy()\n",
    "    for n in G_new:\n",
    "        c=Circle(pos[n],radius=0.15,alpha=0.5)\n",
    "        ax.add_patch(c)\n",
    "        G_new.node[n]['patch']=c\n",
    "        x,y=pos[n]\n",
    "    seen={}\n",
    "    for (u,v,d) in G_new.edges(data=True):\n",
    "        n1=G_new.node[u]['patch']\n",
    "        n2=G_new.node[v]['patch']\n",
    "        rad=0.2\n",
    "        if (u,v) in seen:\n",
    "            rad=seen.get((u,v))\n",
    "            rad=(rad+np.sign(rad)*0.1)*-1\n",
    "        alpha=0.5\n",
    "        color='k'\n",
    "        e = FancyArrowPatch(n1.center,n2.center,patchA=n1,patchB=n2,\n",
    "                            arrowstyle='-|>',\n",
    "                            connectionstyle='arc3,rad=%s'%rad,\n",
    "                            mutation_scale=10.0,\n",
    "                            lw=2,\n",
    "                            alpha=alpha,\n",
    "                            color=color)\n",
    "        seen[(u,v)]=rad\n",
    "        ax.add_patch(e)\n",
    "    return e\n",
    "\n",
    "def show_graph(G): # affiche le graphe\n",
    "    fig=plt.figure(figsize=(10,10))\n",
    "    ax=plt.subplot(111)\n",
    "    ax.invert_yaxis()\n",
    "    draw_graph(G,fixed_pos(G),ax)\n",
    "    ax.autoscale()\n",
    "    plt.axis('equal')\n",
    "    plt.axis('off')\n",
    "    plt.savefig('graph2.png')\n",
    "    plt.show()\n",
    "    #nx.draw_networkx(G,fixed_pos,ax=axe,arrows=True,node_size=400,font_size=10)\n",
    "    #nx.draw(G,fixed_pos(G),ax=axe)"
   ]
  },
  {
   "cell_type": "markdown",
   "metadata": {},
   "source": [
    "Exemple:"
   ]
  },
  {
   "cell_type": "code",
   "execution_count": 24,
   "metadata": {
    "collapsed": false
   },
   "outputs": [
    {
     "data": {
      "image/png": "[encoded data removed]",
      "text/plain": [
       "<matplotlib.figure.Figure at 0x7f7141b58f50>"
      ]
     },
     "metadata": {},
     "output_type": "display_data"
    }
   ],
   "source": [
    "m,n,A,start,end=read_entry_file('entree.txt')\n",
    "G=gen_graph(A[0:3,1:4]) #A original trop grand pour pouvoir l'afficher en entier\n",
    "show_graph(G)\n"
   ]
  },
  {
   "cell_type": "code",
   "execution_count": 66,
   "metadata": {
    "collapsed": false
   },
   "outputs": [
    {
     "data": {
      "image/png": "[encoded data removed]",
      "text/plain": [
       "<matplotlib.figure.Figure at 0x7f2ef3df5d90>"
      ]
     },
     "metadata": {},
     "output_type": "display_data"
    }
   ],
   "source": [
    "M2,N2=2,2\n",
    "A=np.zeros((M2,N2))\n",
    "G2=gen_graph(A)\n",
    "fig=plt.figure(figsize=(10,10))\n",
    "ax=plt.subplot(111)\n",
    "ax.invert_yaxis()\n",
    "ax.autoscale()\n",
    "nx.draw_networkx(G2,fixed_pos(G2),ax=ax,arrows=True,node_size=400,font_size=10)\n",
    "#nx.draw(G,fixed_pos(G),ax=ax)\n",
    "plt.axis('equal')\n",
    "plt.axis('off')\n",
    "plt.show()"
   ]
  },
  {
   "cell_type": "code",
   "execution_count": null,
   "metadata": {
    "collapsed": true
   },
   "outputs": [],
   "source": []
  }
 ],
 "metadata": {
  "kernelspec": {
   "display_name": "Python 2",
   "language": "python",
   "name": "python2"
  },
  "language_info": {
   "codemirror_mode": {
    "name": "ipython",
    "version": 2
   },
   "file_extension": ".py",
   "mimetype": "text/x-python",
   "name": "python",
   "nbconvert_exporter": "python",
   "pygments_lexer": "ipython2",
   "version": "2.7.10"
  }
 },
 "nbformat": 4,
 "nbformat_minor": 0
}
